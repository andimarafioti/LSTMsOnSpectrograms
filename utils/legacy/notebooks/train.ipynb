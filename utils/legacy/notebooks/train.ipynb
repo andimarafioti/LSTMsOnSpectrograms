{
 "cells": [
  {
   "cell_type": "code",
   "execution_count": 1,
   "metadata": {
    "scrolled": false
   },
   "outputs": [],
   "source": [
    "import tensorflow as tf\n",
    "from network.natContextEncoder import ContextEncoderNetwork"
   ]
  },
  {
   "cell_type": "code",
   "execution_count": 2,
   "metadata": {},
   "outputs": [
    {
     "name": "stdout",
     "output_type": "stream",
     "text": [
      "---------\n",
      "ContextEncoder\n",
      "---------\n",
      "Tensor(\"stack:0\", shape=(256, 2048, 2), dtype=float32)\n",
      "Tensor(\"Encoder/Reshape:0\", shape=(256, 1, 2048, 2), dtype=float32)\n",
      "Tensor(\"Encoder/First_Conv/Relu:0\", shape=(256, 1, 512, 32), dtype=float32)\n",
      "Tensor(\"Encoder/Second_Conv/Relu:0\", shape=(256, 1, 128, 64), dtype=float32)\n",
      "Tensor(\"Encoder/Third_Conv/Relu:0\", shape=(256, 1, 32, 64), dtype=float32)\n",
      "Tensor(\"Reshape:0\", shape=(256, 2048), dtype=float32)\n",
      "Tensor(\"Fully/add:0\", shape=(256, 2048), dtype=float32)\n",
      "Tensor(\"Reshape_1:0\", shape=(256, 1, 32, 64), dtype=float32)\n",
      "Tensor(\"Decoder/First_Deconv/Relu:0\", shape=(256, 1, 128, 64), dtype=float32)\n",
      "Tensor(\"Decoder/Second_Deconv/Relu:0\", shape=(256, 1, 512, 16), dtype=float32)\n",
      "Tensor(\"Decoder/Last_Deconv/Relu:0\", shape=(256, 1, 1024, 1), dtype=float32)\n",
      "Tensor(\"Decoder/Reshape:0\", shape=(256, 1024), dtype=float32)\n"
     ]
    }
   ],
   "source": [
    "tf.reset_default_graph()\n",
    "\n",
    "train_filename = 'test_w5120_g1024_h512_ex63501.tfrecords'\n",
    "valid_filename = 'test_w5120_g1024_h512_ex63501.tfrecords'\n",
    "\n",
    "aContextEncoderNetwork = ContextEncoderNetwork(batch_size=256, window_size=5120, gap_length=1024, \n",
    "                                             learning_rate=1e-5, name='train')\n",
    "# aContextEncoderNetwork.train(train_filename, valid_filename, num_steps=1e6)"
   ]
  },
  {
   "cell_type": "code",
   "execution_count": null,
   "metadata": {},
   "outputs": [],
   "source": [
    "aContextEncoderNetwork.description()"
   ]
  }
 ],
 "metadata": {
  "kernelspec": {
   "display_name": "Python 3",
   "language": "python",
   "name": "python3"
  },
  "language_info": {
   "codemirror_mode": {
    "name": "ipython",
    "version": 3
   },
   "file_extension": ".py",
   "mimetype": "text/x-python",
   "name": "python",
   "nbconvert_exporter": "python",
   "pygments_lexer": "ipython3",
   "version": "3.6.2"
  }
 },
 "nbformat": 4,
 "nbformat_minor": 2
}
