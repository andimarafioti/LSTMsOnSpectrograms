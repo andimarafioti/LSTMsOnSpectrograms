{
 "cells": [
  {
   "cell_type": "markdown",
   "metadata": {},
   "source": [
    "## Context Encoder\n",
    "\n",
    "Let's begin by importing tensorflow and the network\n"
   ]
  },
  {
   "cell_type": "code",
   "execution_count": null,
   "metadata": {},
   "outputs": [],
   "source": [
    "import tensorflow as tf\n",
    "\n",
    "from network.contextEncoder import ContextEncoderNetwork"
   ]
  },
  {
   "cell_type": "markdown",
   "metadata": {},
   "source": [
    "Now we initialize the context encoder network and select the step we want to use for the reconstruction."
   ]
  },
  {
   "cell_type": "code",
   "execution_count": null,
   "metadata": {},
   "outputs": [],
   "source": [
    "sr = 16000\n",
    "start_in_seconds = 0.1\n",
    "side_length = 2048\n",
    "gap_length = 1024\n",
    "starting_sample_left_side = int(sr*start_in_seconds)\n",
    "ending_sample_left_side = starting_sample_left_side + side_length\n",
    "starting_sample_right_side = ending_sample_left_side + gap_length\n",
    "ending_sample_right_side = starting_sample_right_side + side_length\n",
    "\n",
    "best_step = 506000\n",
    "batch_size = 256"
   ]
  },
  {
   "cell_type": "code",
   "execution_count": null,
   "metadata": {
    "scrolled": false
   },
   "outputs": [],
   "source": [
    "tf.reset_default_graph()\n",
    "\n",
    "aContextEncoderNetwork = ContextEncoderNetwork(batch_size=batch_size, window_size=5120, gap_length=1024, \n",
    "                                             learning_rate=1e-5, name='test')"
   ]
  },
  {
   "cell_type": "code",
   "execution_count": null,
   "metadata": {},
   "outputs": [],
   "source": [
    "pathToDatasetFolder = 'audio'\n",
    "audios = StrechableNumpyArray()\n",
    "i = 0\n",
    "total = 0\n",
    "for file_name in os.listdir(pathToDatasetFolder):\n",
    "    if file_name.endswith('.wav'):      \n",
    "        audio, sr = librosa.load(pathToDatasetFolder + '/' + file_name, sr=None)\n",
    "        \n",
    "        if np.sum(np.absolute(audio[ending_sample_left_side:starting_sample_right_side])) < gap_length*1e-4: \n",
    "            print(file_name, \"doesn't meet the minimum amplitude requirement\")\n",
    "            continue\n",
    "        \n",
    "        audios.append(audio)\n",
    "        i+=1\n",
    "        \n",
    "        if i > 100:\n",
    "            i -= 100\n",
    "            total += 100\n",
    "            print(\"100 plus!\", total)\n",
    "print(\"there were: \", total+i)\n",
    "\n",
    "audios = audios.finalize()\n",
    "audios = np.reshape(audios, (total+i, len(audio))\n"
   ]
  },
  {
   "cell_type": "code",
   "execution_count": null,
   "metadata": {},
   "outputs": [],
   "source": [
    "left_side = audios[:, starting_sample_left_side:ending_sample_left_side]\n",
    "right_side = audios[:, starting_sample_right_side:ending_sample_right_side]\n",
    "sides = np.concatenate((left_side, right_side), axis=1)\n",
    "original_gaps = audios[:, ending_sample_left_side:starting_sample_right_side]"
   ]
  },
  {
   "cell_type": "code",
   "execution_count": null,
   "metadata": {},
   "outputs": [],
   "source": [
    "batch_count = 20\n",
    "reconstructed = anAutoEncoderNetwork.reconstructAudio(sides/2+0.5, best_step, max_batchs=batch_count)"
   ]
  },
  {
   "cell_type": "code",
   "execution_count": null,
   "metadata": {},
   "outputs": [],
   "source": [
    "left_side = audios[:len(reconstructed), :ending_sample_left_side]\n",
    "right_side = audios[:len(reconstructed), starting_sample_right_side:]\n",
    "reconstructed_signals = np.concatenate((left_side, (reconstructed-0.5)*2, right_side), axis=1)\n",
    "zeroed_signals = np.concatenate((left_side, (reconstructed)*0, right_side), axis=1)\n",
    "reconstructed_original = np.concatenate((left_side, original_gaps[:len(reconstructed)], right_side), axis=1)"
   ]
  },
  {
   "cell_type": "code",
   "execution_count": null,
   "metadata": {},
   "outputs": [],
   "source": [
    "\"\"\"Write files to disk\"\"\"\n",
    "maximum = 256\n",
    "\n",
    "maxv = np.iinfo(np.int16).max\n",
    "for index in range(min(len(reconstructed_signals), maximum)):\n",
    "    librosa.output.write_wav(\"recs/original_\" + str(index) + \".wav\", (audios[index] * maxv).astype(np.int16), sr)\n",
    "    librosa.output.write_wav(\"recs/reconstructed_\" + str(index) + \".wav\", (reconstructed_signals[index] * maxv).astype(np.int16), sr)\n"
   ]
  },
  {
   "cell_type": "code",
   "execution_count": null,
   "metadata": {},
   "outputs": [],
   "source": [
    "reconstructed_signal_to_evaluate = 85"
   ]
  },
  {
   "cell_type": "code",
   "execution_count": null,
   "metadata": {},
   "outputs": [],
   "source": [
    "pylab.rcParams['figure.figsize'] = (14, 7)\n",
    "f, axarr = plt.subplots(1, 3, sharey='row')\n",
    "stop_value = min(1, len(original_gaps)+1)\n",
    "\n",
    "difference = original_gaps[reconstructed_signal_to_evaluate]-((reconstructed[reconstructed_signal_to_evaluate]-0.5)*2)\n",
    "\n",
    "axarr[0].plot(original_gaps[reconstructed_signal_to_evaluate])\n",
    "axarr[1].plot((reconstructed[reconstructed_signal_to_evaluate]-0.5)*2)\n",
    "axarr[2].plot(difference)\n",
    "\n",
    "print(np.sum(np.absolute(original_gaps[reconstructed_signal_to_evaluate])))\n",
    "print(np.absolute(difference).sum())\n",
    "print(np.linalg.norm(difference))\n",
    "print(_pavlovs_SNR( original_gaps[reconstructed_signal_to_evaluate], (reconstructed[reconstructed_signal_to_evaluate]-0.5)*2))"
   ]
  },
  {
   "cell_type": "code",
   "execution_count": null,
   "metadata": {},
   "outputs": [],
   "source": [
    "IPython.display.Audio(data=reconstructed_signals[reconstructed_signal_to_evaluate], rate=16000)\n",
    "# IPython.display.Audio(data=zeroed_signals[reconstructed_signal_to_evaluate], rate=16000)\n",
    "# IPython.display.Audio(data=audios[reconstructed_signal_to_evaluate], rate=16000)\n"
   ]
  },
  {
   "cell_type": "code",
   "execution_count": null,
   "metadata": {},
   "outputs": [],
   "source": [
    "plt.plot(reconstructed_signals[reconstructed_signal_to_evaluate][starting_sample_left_side:ending_sample_right_side])"
   ]
  },
  {
   "cell_type": "code",
   "execution_count": null,
   "metadata": {},
   "outputs": [],
   "source": [
    "def _pavlovs_SNR(y_orig, y_inp):\n",
    "    norm_y_orig = np.linalg.norm(y_orig) + 1e-10\n",
    "    norm_y_orig_minus_y_inp = np.linalg.norm(y_orig - y_inp)\n",
    "    return 10 * np.log10((abs(norm_y_orig ** 2)) / abs((norm_y_orig_minus_y_inp ** 2)))\n",
    "\n",
    "def _euclideanNorm(vector):\n",
    "        squared = np.square(vector)\n",
    "        summed = np.sum(squared, axis=1)\n",
    "        return np.sqrt(summed + 1e-10)\n",
    "    \n",
    "fake_a = (reconstructed - 0.5) * 2\n",
    "gap = original_gaps[:int(batch_count*batch_size)]\n",
    "\n",
    "SNRs = np.zeros((len(fake_a),))\n",
    "for index, signal in enumerate(fake_a):\n",
    "    SNRs[index] = _pavlovs_SNR(gap[index], fake_a[index])\n",
    "\n",
    "norm_orig = _euclideanNorm(gap)\n",
    "error = (gap - fake_a)\n",
    "reconstruction_loss = 0.5 * np.sum(np.square(error), axis=1) * (1 + 1 / norm_orig)\n"
   ]
  },
  {
   "cell_type": "code",
   "execution_count": null,
   "metadata": {},
   "outputs": [],
   "source": [
    "np.where(SNRs>20)"
   ]
  },
  {
   "cell_type": "code",
   "execution_count": null,
   "metadata": {},
   "outputs": [],
   "source": [
    "pylab.rcParams['figure.figsize'] = (14, 8)\n",
    "\n",
    "sorted_SNR = sorted(SNRs)\n",
    "\n",
    "import scipy.stats as stats\n",
    "fit = stats.norm.pdf(sorted_SNR, np.mean(sorted_SNR), np.std(sorted_SNR))  #this is a fitting indeed\n",
    "\n",
    "plt.plot(sorted_SNR,fit,'-o')\n",
    "\n",
    "plt.hist(sorted_SNR, 50, normed=True)    \n"
   ]
  },
  {
   "cell_type": "code",
   "execution_count": null,
   "metadata": {},
   "outputs": [],
   "source": [
    "sorted_SNR = sorted(reconstruction_loss)\n",
    "\n",
    "import scipy.stats as stats\n",
    "fit = stats.norm.pdf(sorted_SNR, np.mean(sorted_SNR), np.std(sorted_SNR))  #this is a fitting indeed\n",
    "\n",
    "plt.plot(sorted_SNR,fit,'-o')\n",
    "\n",
    "plt.hist(sorted_SNR, 50, normed=True)    "
   ]
  },
  {
   "cell_type": "code",
   "execution_count": null,
   "metadata": {},
   "outputs": [],
   "source": [
    "len(np.where(SNRs<-1.2)[0])"
   ]
  },
  {
   "cell_type": "code",
   "execution_count": null,
   "metadata": {},
   "outputs": [],
   "source": [
    "pylab.rcParams['figure.figsize'] = (14, 8)\n",
    "\n",
    "import scipy.stats as stats\n",
    "sorted_SNR = sorted(SNRs)\n",
    "\n",
    "fit = stats.norm.pdf(sorted_SNR, np.mean(sorted_SNR), np.std(sorted_SNR))  #this is a fitting indeed\n",
    "\n",
    "plt.plot(sorted_SNR,fit,'-o')\n",
    "\n",
    "plt.hist(sorted_SNR, 50, normed=True)    \n"
   ]
  },
  {
   "cell_type": "code",
   "execution_count": null,
   "metadata": {},
   "outputs": [],
   "source": [
    "pylab.rcParams['figure.figsize'] = (14, 8)\n",
    "\n",
    "import scipy.stats as stats\n",
    "sorted_SNR = sorted(SNRs)\n",
    "\n",
    "fit = stats.norm.pdf(sorted_SNR, np.mean(sorted_SNR), np.std(sorted_SNR))  #this is a fitting indeed\n",
    "\n",
    "plt.plot(sorted_SNR,fit,'-o')\n",
    "\n",
    "plt.hist(sorted_SNR, 50, normed=True)    \n",
    "362000"
   ]
  },
  {
   "cell_type": "code",
   "execution_count": null,
   "metadata": {},
   "outputs": [],
   "source": [
    "pylab.rcParams['figure.figsize'] = (14, 8)\n",
    "\n",
    "import scipy.stats as stats\n",
    "sorted_SNR = sorted(SNRs)\n",
    "\n",
    "fit = stats.norm.pdf(sorted_SNR, np.mean(sorted_SNR), np.std(sorted_SNR))  #this is a fitting indeed\n",
    "\n",
    "plt.plot(sorted_SNR,fit,'-o')\n",
    "\n",
    "plt.hist(sorted_SNR, 50, normed=True)    \n"
   ]
  },
  {
   "cell_type": "code",
   "execution_count": null,
   "metadata": {},
   "outputs": [],
   "source": [
    "pylab.rcParams['figure.figsize'] = (14, 8)\n",
    "\n",
    "import scipy.stats as stats\n",
    "sorted_SNR = sorted(SNRs)\n",
    "\n",
    "fit = stats.norm.pdf(sorted_SNR, np.mean(sorted_SNR), np.std(sorted_SNR))  #this is a fitting indeed\n",
    "\n",
    "plt.plot(sorted_SNR,fit,'-o')\n",
    "\n",
    "plt.hist(sorted_SNR, 50, normed=True)    \n"
   ]
  },
  {
   "cell_type": "code",
   "execution_count": null,
   "metadata": {},
   "outputs": [],
   "source": [
    "plt.scatter(SNRs, reconstruction_loss)"
   ]
  },
  {
   "cell_type": "code",
   "execution_count": null,
   "metadata": {
    "scrolled": false
   },
   "outputs": [],
   "source": [
    "pylab.rcParams['figure.figsize'] = (14, 28)\n",
    "\n",
    "examples = np.where((SNRs<-10) & (reconstruction_loss<5))[0]\n",
    "\n",
    "f, axarr = plt.subplots(8, 2, sharey='row')\n",
    "\n",
    "for index, example in enumerate(examples):   \n",
    "    if index is not 0 and index%8 is 0:\n",
    "        f, axarr = plt.subplots(8, 2, sharey='row')\n",
    "    axarr[index%8, 0].plot(out_gaps[example])\n",
    "    axarr[index%8, 1].plot(reconstructed[example]) \n"
   ]
  },
  {
   "cell_type": "code",
   "execution_count": null,
   "metadata": {},
   "outputs": [],
   "source": [
    "len( np.where((SNRs<-10) & (reconstruction_loss<5))[0])"
   ]
  },
  {
   "cell_type": "code",
   "execution_count": null,
   "metadata": {},
   "outputs": [],
   "source": [
    "examples = np.where((SNRs<1) & (SNRs>-1))[0][:256]\n",
    "\n",
    "f, axarr = plt.subplots(8, 2, sharey='row')\n",
    "\n",
    "for index, example in enumerate(examples):   \n",
    "    if index%8 == 0:\n",
    "        f, axarr = plt.subplots(8, 2, sharey='row')\n",
    "    axarr[index%8, 0].plot(out_gaps[example])\n",
    "    axarr[index%8, 1].plot(reconstructed[example]) \n",
    "    "
   ]
  },
  {
   "cell_type": "code",
   "execution_count": null,
   "metadata": {},
   "outputs": [],
   "source": [
    "len(np.where(SNRs>28)[0])"
   ]
  },
  {
   "cell_type": "code",
   "execution_count": null,
   "metadata": {},
   "outputs": [],
   "source": [
    "examples = np.where((SNRs>28))[0][:256]\n",
    "\n",
    "f, axarr = plt.subplots(8, 2, sharey='row')\n",
    "\n",
    "for index, example in enumerate(examples):   \n",
    "    if index%8 == 0:\n",
    "        f, axarr = plt.subplots(8, 2, sharey='row')\n",
    "    axarr[index%8, 0].plot(out_gaps[example])\n",
    "    axarr[index%8, 1].plot(reconstructed[example]) \n",
    "    "
   ]
  },
  {
   "cell_type": "code",
   "execution_count": null,
   "metadata": {},
   "outputs": [],
   "source": []
  }
 ],
 "metadata": {
  "kernelspec": {
   "display_name": "Python 3",
   "language": "python",
   "name": "python3"
  },
  "language_info": {
   "codemirror_mode": {
    "name": "ipython",
    "version": 3
   },
   "file_extension": ".py",
   "mimetype": "text/x-python",
   "name": "python",
   "nbconvert_exporter": "python",
   "pygments_lexer": "ipython3",
   "version": "3.6.2"
  }
 },
 "nbformat": 4,
 "nbformat_minor": 2
}
