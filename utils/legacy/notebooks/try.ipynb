{
 "cells": [
  {
   "cell_type": "markdown",
   "metadata": {},
   "source": [
    "## Context Encoder\n",
    "\n",
    "In this notebook we are going to be trying different networks to test their performance.\n",
    "Let's begin by importing tensorflow and the network.\n"
   ]
  },
  {
   "cell_type": "code",
   "execution_count": null,
   "metadata": {
    "scrolled": false
   },
   "outputs": [],
   "source": [
    "import tensorflow as tf\n",
    "from network.contextEncoder import ContextEncoderNetwork"
   ]
  },
  {
   "cell_type": "markdown",
   "metadata": {},
   "source": [
    "Next, we have a modifiable version of the context encoder. The goal is to be able to easily modify the network and try other ideas."
   ]
  },
  {
   "cell_type": "code",
   "execution_count": null,
   "metadata": {},
   "outputs": [],
   "source": [
    "class ModifiedContextEncoderNetwork(ContextEncoderNetwork):\n",
    "    def _encoder(self, model, isTraining):\n",
    "        with tf.variable_scope(\"Encoder\"):\n",
    "            model.addReshape((self._batch_size, self._window_size - self._gap_length, 1))\n",
    "            model.addConvLayer(filter_width=129, input_channels=1, output_channels=16,\n",
    "                                      stride=4, name=\"First_Conv\", isTraining=isTraining)\n",
    "            model.addConvLayer(filter_width=65, input_channels=16, output_channels=64,\n",
    "                                      stride=4, name=\"Second_Conv\", isTraining=isTraining)\n",
    "            model.addConvLayer(filter_width=33, input_channels=64, output_channels=256,\n",
    "                                      stride=4, name=\"Third_Conv\", isTraining=isTraining)\n",
    "            model.addConvLayer(filter_width=17, input_channels=256, output_channels=1024,\n",
    "                                      stride=4, name=\"Fourth_Conv\", isTraining=isTraining)\n",
    "            model.addConvLayer(filter_width=9, input_channels=1024, output_channels=4096,\n",
    "                                      stride=4, name=\"Last_Conv\", isTraining=isTraining)\n",
    "\n",
    "    def _decoder(self, model, isTraining):\n",
    "        with tf.variable_scope(\"Decoder\"):\n",
    "            model.addConvLayerWithoutNonLin(filter_width=5, input_channels=4096, output_channels=1024,\n",
    "                                            stride=4, name=\"Decode_Conv\", isTraining=isTraining)\n",
    "            model.addReshape((self._batch_size, self._gap_length))\n"
   ]
  },
  {
   "cell_type": "code",
   "execution_count": null,
   "metadata": {},
   "outputs": [],
   "source": [
    "tf.reset_default_graph()\n",
    "\n",
    "train_filename = 'train_full_w5120_g1024_h512_19404621.tfrecords'\n",
    "valid_filename = 'valid_full_w5120_g1024_h512_ex913967.tfrecords'\n",
    "\n",
    "aContextEncoderNetwork = ModifiedContextEncoderNetwork(batch_size=256, window_size=5120, gap_length=1024, \n",
    "                                             learning_rate=1e-5, name='first_try')\n",
    "aContextEncoderNetwork.train(train_filename, valid_filename, num_steps=1e6)"
   ]
  }
 ],
 "metadata": {
  "kernelspec": {
   "display_name": "Python 3",
   "language": "python",
   "name": "python3"
  },
  "language_info": {
   "codemirror_mode": {
    "name": "ipython",
    "version": 3
   },
   "file_extension": ".py",
   "mimetype": "text/x-python",
   "name": "python",
   "nbconvert_exporter": "python",
   "pygments_lexer": "ipython3",
   "version": "3.6.2"
  }
 },
 "nbformat": 4,
 "nbformat_minor": 2
}
