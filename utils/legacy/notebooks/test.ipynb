{
 "cells": [
  {
   "cell_type": "markdown",
   "metadata": {
    "scrolled": false
   },
   "source": [
    "# Context Encoder \n",
    "\n",
    "Let's begin by importing tensorflow and the network"
   ]
  },
  {
   "cell_type": "code",
   "execution_count": null,
   "metadata": {},
   "outputs": [],
   "source": [
    "import tensorflow as tf\n",
    "from network.contextEncoder import ContextEncoderNetwork"
   ]
  },
  {
   "cell_type": "markdown",
   "metadata": {},
   "source": [
    "Now we initialize the context encoder network and select the step we want to use for the reconstruction."
   ]
  },
  {
   "cell_type": "code",
   "execution_count": null,
   "metadata": {},
   "outputs": [],
   "source": [
    "tf.reset_default_graph()\n",
    "\n",
    "train_filename = 'train_full_w5120_g1024_h512_19404621.tfrecords'\n",
    "valid_filename = 'valid_full_w5120_g1024_h512_ex913967.tfrecords'\n",
    "\n",
    "aContextEncoderNetwork = ContextEncoderNetwork(batch_size=256, window_size=5120, gap_length=1024, \n",
    "                                             learning_rate=1e-5, name='test')"
   ]
  },
  {
   "cell_type": "code",
   "execution_count": null,
   "metadata": {},
   "outputs": [],
   "source": [
    "best_step = 506000 "
   ]
  },
  {
   "cell_type": "code",
   "execution_count": null,
   "metadata": {},
   "outputs": [],
   "source": [
    "test_filename = 'test_full_w5120_g1024_h512_ex298385.tfrecords'\n",
    "reconstructed, out_gaps = anAutoEncoderNetwork.reconstruct(test_filename, best_step, max_steps=248)\n",
    "\n",
    "evaluator = EvaluationWriter(anAutoEncoderNetwork._name + str(best_step) + '_test.xlsx')\n",
    "evaluator.evaluate(reconstructed, out_gaps, best_step)\n",
    "evaluator.save()"
   ]
  },
  {
   "cell_type": "code",
   "execution_count": null,
   "metadata": {},
   "outputs": [],
   "source": [
    "from matplotlib.backends.backend_pdf import PdfPages\n",
    "pp = PdfPages(anAutoEncoderNetwork._name + '_' + str(best_step) + '_test.pdf')\n",
    "\n",
    "pylab.rcParams['figure.figsize'] = (14, 28)\n",
    "f, axarr = plt.subplots(8, 2, sharey='row')\n",
    "\n",
    "stop_value = min(256, len(out_gaps)+1)\n",
    "for i in range(0, stop_value):   \n",
    "    if i is not 0 and i%8 is 0:\n",
    "        pp.savefig()\n",
    "        f, axarr = plt.subplots(8, 2, sharey='row')\n",
    "    axarr[i%8, 0].plot(out_gaps[i%256])\n",
    "    axarr[i%8, 1].plot(reconstructed[i%256]) \n",
    "    \n",
    "pp.savefig()\n",
    "pp.close()"
   ]
  },
  {
   "cell_type": "code",
   "execution_count": null,
   "metadata": {},
   "outputs": [],
   "source": [
    "def _pavlovs_SNR(y_orig, y_inp):\n",
    "    norm_y_orig = np.linalg.norm(y_orig) + 1e-10\n",
    "    norm_y_orig_minus_y_inp = np.linalg.norm(y_orig - y_inp)\n",
    "    return 10 * np.log10((abs(norm_y_orig ** 2)) / abs((norm_y_orig_minus_y_inp ** 2)))\n",
    "\n",
    "def _euclideanNorm(vector):\n",
    "        squared = np.square(vector)\n",
    "        summed = np.sum(squared, axis=1)\n",
    "        return np.sqrt(summed + 1e-10)\n",
    "    \n",
    "fake_a = (reconstructed - 0.5) * 2\n",
    "gap = (out_gaps - 0.5) * 2\n",
    "\n",
    "SNRs = np.zeros((len(fake_a),))\n",
    "for index, signal in enumerate(fake_a):\n",
    "    SNRs[index] = _pavlovs_SNR(gap[index], fake_a[index])\n",
    "\n",
    "norm_orig = _euclideanNorm(gap)\n",
    "error = (gap - fake_a)\n",
    "reconstruction_loss = 0.5 * np.sum(np.square(error), axis=1) * (1 + 1 / norm_orig)\n"
   ]
  },
  {
   "cell_type": "code",
   "execution_count": null,
   "metadata": {},
   "outputs": [],
   "source": [
    "pylab.rcParams['figure.figsize'] = (14, 8)\n",
    "\n",
    "import scipy.stats as stats\n",
    "sorted_SNR = sorted(SNRs)\n",
    "\n",
    "fit = stats.norm.pdf(sorted_SNR, np.mean(sorted_SNR), np.std(sorted_SNR))  #this is a fitting indeed\n",
    "\n",
    "plt.plot(sorted_SNR,fit,'-o')\n",
    "\n",
    "plt.hist(sorted_SNR, 50, normed=True)    \n"
   ]
  },
  {
   "cell_type": "code",
   "execution_count": null,
   "metadata": {},
   "outputs": [],
   "source": [
    "plt.scatter(SNRs, reconstruction_loss)"
   ]
  },
  {
   "cell_type": "code",
   "execution_count": null,
   "metadata": {},
   "outputs": [],
   "source": [
    "pylab.rcParams['figure.figsize'] = (14, 28)\n",
    "\n",
    "examples = np.where((SNRs<-10) & (reconstruction_loss<5))[0]\n",
    "\n",
    "f, axarr = plt.subplots(8, 2, sharey='row')\n",
    "\n",
    "for index, example in enumerate(examples):   \n",
    "    if index is not 0 and index%8 is 0:\n",
    "        f, axarr = plt.subplots(8, 2, sharey='row')\n",
    "    axarr[index%8, 0].plot(out_gaps[example])\n",
    "    axarr[index%8, 1].plot(reconstructed[example]) \n"
   ]
  },
  {
   "cell_type": "code",
   "execution_count": null,
   "metadata": {},
   "outputs": [],
   "source": [
    "examples = np.where((SNRs<1) & (SNRs>-1))[0][:256]\n",
    "\n",
    "f, axarr = plt.subplots(8, 2, sharey='row')\n",
    "\n",
    "for index, example in enumerate(examples):   \n",
    "    if index is not 0 and index%8 is 0:\n",
    "        f, axarr = plt.subplots(8, 2, sharey='row')\n",
    "    axarr[index%8, 0].plot(out_gaps[example])\n",
    "    axarr[index%8, 1].plot(reconstructed[example]) \n",
    "    "
   ]
  },
  {
   "cell_type": "code",
   "execution_count": null,
   "metadata": {},
   "outputs": [],
   "source": [
    "examples = np.where((SNRs>28))[0][:256]\n",
    "\n",
    "f, axarr = plt.subplots(8, 2, sharey='row')\n",
    "\n",
    "for index, example in enumerate(examples):   \n",
    "    if index%8 == 0:\n",
    "        f, axarr = plt.subplots(8, 2, sharey='row')\n",
    "    axarr[index%8, 0].plot(out_gaps[example])\n",
    "    axarr[index%8, 1].plot(reconstructed[example]) \n",
    "    "
   ]
  }
 ],
 "metadata": {
  "kernelspec": {
   "display_name": "Python 3",
   "language": "python",
   "name": "python3"
  },
  "language_info": {
   "codemirror_mode": {
    "name": "ipython",
    "version": 3
   },
   "file_extension": ".py",
   "mimetype": "text/x-python",
   "name": "python",
   "nbconvert_exporter": "python",
   "pygments_lexer": "ipython3",
   "version": "3.6.2"
  }
 },
 "nbformat": 4,
 "nbformat_minor": 2
}
