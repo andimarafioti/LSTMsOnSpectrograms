{
 "cells": [
  {
   "cell_type": "markdown",
   "metadata": {},
   "source": [
    "# Import some stuff"
   ]
  },
  {
   "cell_type": "code",
   "execution_count": 1,
   "metadata": {},
   "outputs": [],
   "source": [
    "import tensorflow as tf\n",
    "import numpy as np\n",
    "import matplotlib.pyplot as plt\n",
    "from architecture.parameters.lstmParameters import LstmParameters\n",
    "from architecture.simpleLSTMArchitecture import SimpleLSTMArchitecture\n",
    "from system.lstmPreAndPostProcessor import LSTMPreAndPostProcessor\n",
    "from system.lstmSystem import LSTMSystem"
   ]
  },
  {
   "cell_type": "markdown",
   "metadata": {},
   "source": [
    "# Initialize the network"
   ]
  },
  {
   "cell_type": "code",
   "execution_count": null,
   "metadata": {},
   "outputs": [],
   "source": [
    "sessionsName = \"LSTM_test_3_\"\n",
    "\n",
    "params = LstmParameters(lstmSize=512, signalLength=5120, fftWindowLength=128, fftHopSize=32, countOfFrames=4)\n",
    "batch_size = 1\n",
    "aContextEncoderArchitecture = SimpleLSTMArchitecture(inputShape=(608, params.fftFreqBins()), lstmParams=params)\n",
    "aPreProcessor = LSTMPreAndPostProcessor(params)\n",
    "aContextEncoderSystem = LSTMSystem(aContextEncoderArchitecture, batch_size, aPreProcessor, params, sessionsName)"
   ]
  },
  {
   "cell_type": "markdown",
   "metadata": {},
   "source": [
    "# Create some spectrogram"
   ]
  },
  {
   "cell_type": "code",
   "execution_count": 7,
   "metadata": {},
   "outputs": [],
   "source": [
    "sampling_rate = 16000\n",
    "window_size = 5120\n",
    "time = np.arange(0, window_size / sampling_rate, 1 / sampling_rate, dtype=np.float32)\n",
    "\n",
    "audio = np.sin(2 * np.pi * 240 * time) + np.sin(2 * np.pi * 2240 * time) + np.sin(2 * np.pi * 4480 * time) + np.sin(2 * np.pi * 7240 * time)\n",
    "\n",
    "magSpectrogramOp  = tf.abs(tf.contrib.signal.stft(signals=audio, \n",
    "                                                  frame_length=params.fftWindowLength(), \n",
    "                                                  frame_step=params.fftHopSize()))\n",
    "a=3                           \n",
    "with tf.Session() as sess:\n",
    "    magSpectrogram = sess.run(magSpectrogramOp)\n"
   ]
  },
  {
   "cell_type": "code",
   "execution_count": 8,
   "metadata": {},
   "outputs": [
    {
     "name": "stdout",
     "output_type": "stream",
     "text": [
      "(157, 65)\n"
     ]
    },
    {
     "data": {
      "image/png": "[encoded data removed]",
      "text/plain": [
       "<Figure size 432x288 with 1 Axes>"
      ]
     },
     "metadata": {},
     "output_type": "display_data"
    }
   ],
   "source": [
    "plt.pcolormesh(magSpectrogram.transpose())\n",
    "print(magSpectrogram.shape)\n"
   ]
  },
  {
   "cell_type": "code",
   "execution_count": 9,
   "metadata": {},
   "outputs": [
    {
     "name": "stdout",
     "output_type": "stream",
     "text": [
      "model_checkpoint_path: \"utils/saved_models/LSTM_test_2_/model-LSTM_test_2_84036.ckpt\"\n",
      "all_model_checkpoint_paths: \"utils/saved_models/LSTM_test_2_/model-LSTM_test_2_2167.ckpt\"\n",
      "all_model_checkpoint_paths: \"utils/saved_models/LSTM_test_2_/model-LSTM_test_2_4167.ckpt\"\n",
      "all_model_checkpoint_paths: \"utils/saved_models/LSTM_test_2_/model-LSTM_test_2_6167.ckpt\"\n",
      "all_model_checkpoint_paths: \"utils/saved_models/LSTM_test_2_/model-LSTM_test_2_8167.ckpt\"\n",
      "all_model_checkpoint_paths: \"utils/saved_models/LSTM_test_2_/model-LSTM_test_2_10167.ckpt\"\n",
      "all_model_checkpoint_paths: \"utils/saved_models/LSTM_test_2_/model-LSTM_test_2_12167.ckpt\"\n",
      "all_model_checkpoint_paths: \"utils/saved_models/LSTM_test_2_/model-LSTM_test_2_14167.ckpt\"\n",
      "all_model_checkpoint_paths: \"utils/saved_models/LSTM_test_2_/model-LSTM_test_2_16167.ckpt\"\n",
      "all_model_checkpoint_paths: \"utils/saved_models/LSTM_test_2_/model-LSTM_test_2_18167.ckpt\"\n",
      "all_model_checkpoint_paths: \"utils/saved_models/LSTM_test_2_/model-LSTM_test_2_20167.ckpt\"\n",
      "all_model_checkpoint_paths: \"utils/saved_models/LSTM_test_2_/model-LSTM_test_2_22167.ckpt\"\n",
      "all_model_checkpoint_paths: \"utils/saved_models/LSTM_test_2_/model-LSTM_test_2_24167.ckpt\"\n",
      "all_model_checkpoint_paths: \"utils/saved_models/LSTM_test_2_/model-LSTM_test_2_26167.ckpt\"\n",
      "all_model_checkpoint_paths: \"utils/saved_models/LSTM_test_2_/model-LSTM_test_2_28167.ckpt\"\n",
      "all_model_checkpoint_paths: \"utils/saved_models/LSTM_test_2_/model-LSTM_test_2_30167.ckpt\"\n",
      "all_model_checkpoint_paths: \"utils/saved_models/LSTM_test_2_/model-LSTM_test_2_32167.ckpt\"\n",
      "all_model_checkpoint_paths: \"utils/saved_models/LSTM_test_2_/model-LSTM_test_2_34167.ckpt\"\n",
      "all_model_checkpoint_paths: \"utils/saved_models/LSTM_test_2_/model-LSTM_test_2_36167.ckpt\"\n",
      "all_model_checkpoint_paths: \"utils/saved_models/LSTM_test_2_/model-LSTM_test_2_38167.ckpt\"\n",
      "all_model_checkpoint_paths: \"utils/saved_models/LSTM_test_2_/model-LSTM_test_2_40167.ckpt\"\n",
      "all_model_checkpoint_paths: \"utils/saved_models/LSTM_test_2_/model-LSTM_test_2_42167.ckpt\"\n",
      "all_model_checkpoint_paths: \"utils/saved_models/LSTM_test_2_/model-LSTM_test_2_44167.ckpt\"\n",
      "all_model_checkpoint_paths: \"utils/saved_models/LSTM_test_2_/model-LSTM_test_2_46167.ckpt\"\n",
      "all_model_checkpoint_paths: \"utils/saved_models/LSTM_test_2_/model-LSTM_test_2_48167.ckpt\"\n",
      "all_model_checkpoint_paths: \"utils/saved_models/LSTM_test_2_/model-LSTM_test_2_50167.ckpt\"\n",
      "all_model_checkpoint_paths: \"utils/saved_models/LSTM_test_2_/model-LSTM_test_2_52167.ckpt\"\n",
      "all_model_checkpoint_paths: \"utils/saved_models/LSTM_test_2_/model-LSTM_test_2_54167.ckpt\"\n",
      "all_model_checkpoint_paths: \"utils/saved_models/LSTM_test_2_/model-LSTM_test_2_56167.ckpt\"\n",
      "all_model_checkpoint_paths: \"utils/saved_models/LSTM_test_2_/model-LSTM_test_2_58167.ckpt\"\n",
      "all_model_checkpoint_paths: \"utils/saved_models/LSTM_test_2_/model-LSTM_test_2_60167.ckpt\"\n",
      "all_model_checkpoint_paths: \"utils/saved_models/LSTM_test_2_/model-LSTM_test_2_62167.ckpt\"\n",
      "all_model_checkpoint_paths: \"utils/saved_models/LSTM_test_2_/model-LSTM_test_2_64167.ckpt\"\n",
      "all_model_checkpoint_paths: \"utils/saved_models/LSTM_test_2_/model-LSTM_test_2_66167.ckpt\"\n",
      "all_model_checkpoint_paths: \"utils/saved_models/LSTM_test_2_/model-LSTM_test_2_68167.ckpt\"\n",
      "all_model_checkpoint_paths: \"utils/saved_models/LSTM_test_2_/model-LSTM_test_2_70167.ckpt\"\n",
      "all_model_checkpoint_paths: \"utils/saved_models/LSTM_test_2_/model-LSTM_test_2_72167.ckpt\"\n",
      "all_model_checkpoint_paths: \"utils/saved_models/LSTM_test_2_/model-LSTM_test_2_74167.ckpt\"\n",
      "all_model_checkpoint_paths: \"utils/saved_models/LSTM_test_2_/model-LSTM_test_2_76167.ckpt\"\n",
      "all_model_checkpoint_paths: \"utils/saved_models/LSTM_test_2_/model-LSTM_test_2_78167.ckpt\"\n",
      "all_model_checkpoint_paths: \"utils/saved_models/LSTM_test_2_/model-LSTM_test_2_80167.ckpt\"\n",
      "all_model_checkpoint_paths: \"utils/saved_models/LSTM_test_2_/model-LSTM_test_2_82167.ckpt\"\n",
      "all_model_checkpoint_paths: \"utils/saved_models/LSTM_test_2_/model-LSTM_test_2_84036.ckpt\"\n",
      "\n",
      "INFO:tensorflow:Restoring parameters from utils/saved_models/LSTM_test_2_/model-LSTM_test_2_84036.ckpt\n",
      "Model restored.\n"
     ]
    }
   ],
   "source": [
    "generatedSpecs = aContextEncoderSystem.generate(magSpectrogram, length=30)"
   ]
  },
  {
   "cell_type": "code",
   "execution_count": 10,
   "metadata": {},
   "outputs": [
    {
     "data": {
      "text/plain": [
       "Text(0.5,1,'total')"
      ]
     },
     "execution_count": 10,
     "metadata": {},
     "output_type": "execute_result"
    },
    {
     "data": {
      "image/png": "[encoded data removed]",
      "text/plain": [
       "<Figure size 1728x864 with 3 Axes>"
      ]
     },
     "metadata": {},
     "output_type": "display_data"
    }
   ],
   "source": [
    "f, axarr = plt.subplots(1, 3, sharey='row', figsize=(24, 12))\n",
    "\n",
    "axarr[0].pcolormesh(generatedSpecs[:4].transpose())\n",
    "axarr[0].set_title('original', size=24)\n",
    "axarr[1].pcolormesh(generatedSpecs[4:].transpose())\n",
    "axarr[1].set_title('reconstructed', size=24)\n",
    "axarr[2].pcolormesh(generatedSpecs.transpose())\n",
    "axarr[2].set_title('total', size=24)"
   ]
  },
  {
   "cell_type": "code",
   "execution_count": null,
   "metadata": {},
   "outputs": [],
   "source": []
  }
 ],
 "metadata": {
  "kernelspec": {
   "display_name": "Python 3",
   "language": "python",
   "name": "python3"
  },
  "language_info": {
   "codemirror_mode": {
    "name": "ipython",
    "version": 3
   },
   "file_extension": ".py",
   "mimetype": "text/x-python",
   "name": "python",
   "nbconvert_exporter": "python",
   "pygments_lexer": "ipython3",
   "version": "3.5.2"
  }
 },
 "nbformat": 4,
 "nbformat_minor": 2
}
